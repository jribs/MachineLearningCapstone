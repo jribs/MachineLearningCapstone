{
 "cells": [
  {
   "cell_type": "markdown",
   "metadata": {},
   "source": [
    "# Cost of Living and Venues - Data Science Report"
   ]
  },
  {
   "cell_type": "markdown",
   "metadata": {},
   "source": [
    "## Business Problem"
   ]
  },
  {
   "attachments": {},
   "cell_type": "markdown",
   "metadata": {},
   "source": [
    "Cities across the United States can vary widely in how prosperous the population is and how much it costs to live in that city. A dollar might go further in Milwaukee as opposed to New York. Monthly housing expenses in San Francisco might dwarf those in Tampa Bay. In this study, we will explore what kind of effect, if any, consumer financial mobility has with respect to the types venues in a given city. In other words, is there a relationship between the cost of living and the number of venues that appear in a city? Can those cost of living metrics affect the types of venues present in a city. The scope of this study will be limited to the aforementioned questions. However, the results can be used by an entrepreneur to investigate if there is a gap in types of venues where one might succeed or if there is a good reason behind a type of venue not being present in a given city."
   ]
  },
  {
   "cell_type": "markdown",
   "metadata": {},
   "source": [
    "## Data"
   ]
  },
  {
   "cell_type": "markdown",
   "metadata": {},
   "source": [
    "In this study, there are two datasets to be used:\n",
    " \n",
    " <ol>\n",
    "<li><a href=\"https://developer.foursquare.com/docs/api-reference/venues/search/\">Foursquare Places API</a></li>\n",
    "<li><a href=\"https://www.numbeo.com/cost-of-living/region_rankings_current.jsp?region=021\">Numbeo Cost of Living dataset</a></li>\n",
    "</ol>\n",
    "\n",
    "Ultimately, the Foursquare data is going to be where we will gather information about the types of venues present, type counts, and total venue counts. This will require some aggregation. Before diving into what will be extracted, below is what is present in the Foursquare Places API:\n",
    "\n",
    "<ul>\n",
    "    <li><b>id</b> - A unique string identifier for this venue.</li>\n",
    "    <li><b>name</b> - The best known name for this venue.</li>\n",
    "    <li><b>location</b> - An object containing none, some, or all of address (street address), crossStreet, city, state, postalCode, country, lat, lng, and distance. All fields are strings, except for lat, lng, and distance. Distance is measured in meters. Some venues have their locations intentionally hidden for privacy reasons (such as private residences). If this is the case, the parameter isFuzzed will be set to true, and the lat/lng parameters will have reduced precision.</li>\n",
    "    <li><b>categories</b> - An array, possibly empty, of categories that have been applied to this venue. One of the categories will have a primary field indicating that it is the primary category for the venue. For the complete category tree, see categories.</li>\n",
    "</ul>\n",
    "\n",
    "Of these, <b> id, location,</b> and <b> categories </b> will be used. \"id\" will be used as a counting field. Location will be used to group the data and join with the other data source. Categories will be used as a category for exploring the types of venues in a given city.\n",
    "\n",
    "As for the Cost of Living dataset, the fields and definitions are as follows:\n",
    "\n",
    "<ul>\n",
    "\t<li><b>Cost of Living Index (Excl. Rent)</b> - is a relative indicator of consumer goods prices, including groceries, restaurants, transportation and utilities. Cost of Living Index doesn't include accommodation expenses such as rent or mortgage. If a city has a Cost of Living Index of 120, it means Number estimates it is 20% more expensive than New York (excluding rent).</li>\n",
    "\t<li><b>Rent Index</b> - is an estimation of prices of renting apartments in the city compared to New York City. If Rent index is 80, Numbeo estimates that price of rents in that city is on an average 20% less than the price in New York.</li>\n",
    "\t<li><b>Groceries Index</b> - is an estimation of grocery prices in the city compared to New York City. To calculate this section, Numbeo uses weights of items in the \"Markets\" section for each city.</li>\n",
    "\t<li><b>Restaurants Index</b> - is a comparison of prices of meals and drinks in restaurants and bars compared to NYC.</li>\n",
    "\t<li><b>Cost of Living Plus Rent Index</b> - is an estimation of consumer goods prices including rent comparing to New York City.</li>\n",
    "\t<li><b>Local Purchasing Power</b> - shows relative purchasing power in buying goods and services in a given city for the average wage in that city. If domestic purchasing power is 40, this means that the inhabitants of that city with the average salary can afford to buy on an average 60% less goods and services than New York City residents with an average salary.</li>\n",
    "</ul>\n",
    "\n",
    "   The three most interesting fields out of the Cost of Living dataset are Cost of Living Index, Restaurants Index, and Local Purchasing Power. With Cost of Living, we can look at how much it costs to live in a city regardless of what income the population generally makes. Restaurant Index gets more specific than Cost of Living by focusing only on the Restaurant price portion. This is useful because it is theoretically possible that a city has high priced restaurants but a low cost of living. Local purchasing power is a useful paradigm because it focuses on how much citizens can afford with the average salary. This covers the gap of cities where cost of living is low, but average salaries are still high. </p>\n",
    "\n",
    "The Cost of Living dataset will be used to acquire a subset of cities in the United States to run queries on the Foursquare API. Foursquare's API coverage is too vast to use as an achor point with the Cost of Living dataset. Using the CoL dataset as an anchor will  also ensure that we get a wide range of cities that have ample venue data within them.\n",
    "\n",
    "After preliminary review, the data will likely need pruning but not much manipulation. The largest concern is joining the two tables on a column which represents the same city."
   ]
  },
  {
   "cell_type": "code",
   "execution_count": null,
   "metadata": {},
   "outputs": [],
   "source": []
  }
 ],
 "metadata": {
  "kernelspec": {
   "display_name": "Python 3",
   "language": "python",
   "name": "python3"
  },
  "language_info": {
   "codemirror_mode": {
    "name": "ipython",
    "version": 3
   },
   "file_extension": ".py",
   "mimetype": "text/x-python",
   "name": "python",
   "nbconvert_exporter": "python",
   "pygments_lexer": "ipython3",
   "version": "3.6.8"
  }
 },
 "nbformat": 4,
 "nbformat_minor": 4
}
